{
 "cells": [
  {
   "cell_type": "code",
   "execution_count": null,
   "metadata": {},
   "outputs": [],
   "source": [
    "#1.\n",
    "string = \"Hello, World!\"\n",
    "print(len(string)) "
   ]
  },
  {
   "cell_type": "code",
   "execution_count": 15,
   "metadata": {},
   "outputs": [
    {
     "name": "stdout",
     "output_type": "stream",
     "text": [
      "m : 1\n",
      "g : 2\n",
      ". : 1\n",
      "c : 1\n",
      "l : 1\n",
      "e : 1\n",
      "o : 3\n"
     ]
    }
   ],
   "source": [
    "#2.\n",
    "Sample_String = \"google.com\"\n",
    "char = set(Sample_String)\n",
    "for i in char:\n",
    "    num = Sample_String.count(i)  \n",
    "    print(f\"{i} : {num}\")   \n",
    "\n",
    "        \n"
   ]
  },
  {
   "cell_type": "code",
   "execution_count": 16,
   "metadata": {},
   "outputs": [
    {
     "name": "stdout",
     "output_type": "stream",
     "text": [
      "huhu\n"
     ]
    }
   ],
   "source": [
    "#3.\n",
    "string = input(\"Enter a string: \")\n",
    "if len(string) < 2:\n",
    "    print(\"Empty string\")\n",
    "else:\n",
    "    print(string[0:2] + string[-2:])"
   ]
  },
  {
   "cell_type": "code",
   "execution_count": 36,
   "metadata": {},
   "outputs": [
    {
     "name": "stdout",
     "output_type": "stream",
     "text": [
      "resta$t\n"
     ]
    }
   ],
   "source": [
    "#4.\n",
    "string = input(\"Enter a string: \")\n",
    "string.lower()\n",
    "first_char = string[0]\n",
    "newstring = string.replace(string[0], '$')\n",
    "    \n",
    "print(first_char + newstring[1:])\n"
   ]
  },
  {
   "cell_type": "code",
   "execution_count": 1,
   "metadata": {},
   "outputs": [
    {
     "name": "stdout",
     "output_type": "stream",
     "text": [
      "First string:  abz\n",
      "Second string:  xyc\n"
     ]
    }
   ],
   "source": [
    "#5\n",
    "string1 = input(\"Enter first string: \")\n",
    "string2 = input(\"Enter second string: \")\n",
    "\n",
    "str_1 = string1[0:2] + string2[2:]\n",
    "str_2 = string2[0:2] + string1[2:]\n",
    "print(\"First string: \", str_1)\n",
    "print(\"Second string: \", str_2)\n",
    "\n"
   ]
  },
  {
   "cell_type": "code",
   "execution_count": 2,
   "metadata": {},
   "outputs": [
    {
     "name": "stdout",
     "output_type": "stream",
     "text": [
      "abcing\n"
     ]
    }
   ],
   "source": [
    "#6\n",
    "string = input(\"Enter a string: \")\n",
    "if len(string) < 3:\n",
    "    print(string)\n",
    "elif string[-3:] == \"ing\":\n",
    "    print(string + \"ly\")\n",
    "else:\n",
    "    print(string + \"ing\")"
   ]
  },
  {
   "cell_type": "code",
   "execution_count": 3,
   "metadata": {},
   "outputs": [
    {
     "name": "stdout",
     "output_type": "stream",
     "text": [
      "The lyrics is good\n"
     ]
    }
   ],
   "source": [
    "#7.\n",
    "string = input(\"Enter a string: \")\n",
    "not_index = string.find(\"not\")\n",
    "poor_index = string.find(\"poor\")\n",
    "if not_index != -1 and poor_index != -1 and not_index < poor_index:\n",
    "    print(string[:not_index] + \"good\" + string[poor_index + 4:])\n",
    "\n",
    "    "
   ]
  },
  {
   "cell_type": "code",
   "execution_count": null,
   "metadata": {},
   "outputs": [
    {
     "name": "stdout",
     "output_type": "stream",
     "text": [
      "Longest string is: bacvdsda\n",
      "Length of longest string is: 8\n"
     ]
    }
   ],
   "source": [
    "#8.\n",
    "liststring = []\n",
    "for i in range(5):\n",
    "    string = input(\"Enter a string: \")\n",
    "    liststring.append(string)   \n",
    "\n",
    "longest_string = max(liststring, key=len)\n",
    "\n",
    "print(\"Longest string is:\", longest_string)\n",
    "print(\"Length of longest string is:\", len(longest_string))\n",
    "        \n"
   ]
  },
  {
   "cell_type": "code",
   "execution_count": null,
   "metadata": {},
   "outputs": [
    {
     "name": "stdout",
     "output_type": "stream",
     "text": [
      "abc\n"
     ]
    }
   ],
   "source": [
    "#9.\n",
    "string = input(\"Enter a string: \")\n",
    "index = int(input(\"Enter index: \"))\n",
    "if index < 0 or index >= len(string):\n",
    "    print(\"Index out of range\") \n",
    "else:\n",
    "    print(string[:index]+string[index+1:])"
   ]
  },
  {
   "cell_type": "code",
   "execution_count": 17,
   "metadata": {},
   "outputs": [
    {
     "name": "stdout",
     "output_type": "stream",
     "text": [
      "cbca\n"
     ]
    }
   ],
   "source": [
    "#10.\n",
    "string = input(\"Enter a string: \")\n",
    "first_char = string[0]\n",
    "last_char = string[-1]\n",
    "print( last_char + string[1:-1] + first_char)\n",
    "\n"
   ]
  },
  {
   "cell_type": "code",
   "execution_count": null,
   "metadata": {},
   "outputs": [
    {
     "name": "stdout",
     "output_type": "stream",
     "text": [
      "bd\n"
     ]
    }
   ],
   "source": [
    "#11\n",
    "string = input(\"Enter a string: \")\n",
    "newstring = \"\"\n",
    "for i in range(len(string)):\n",
    "    if i % 2 != 0:\n",
    "        newstring += string[i]\n",
    "        \n",
    "print(newstring)"
   ]
  },
  {
   "cell_type": "code",
   "execution_count": null,
   "metadata": {},
   "outputs": [
    {
     "name": "stdout",
     "output_type": "stream",
     "text": [
      "{'not': 2, 'di': 2}\n"
     ]
    }
   ],
   "source": [
    "#12.\n",
    "string = input(\"Enter a string: \")\n",
    "\n",
    "word_count = {}\n",
    "words = string.split()\n",
    "for i in words:\n",
    "    i = i.lower().strip()\n",
    "    word_count[i] = word_count.get(i, 0) + 1\n",
    "print(word_count)"
   ]
  },
  {
   "cell_type": "code",
   "execution_count": null,
   "metadata": {},
   "outputs": [
    {
     "name": "stdout",
     "output_type": "stream",
     "text": [
      "ABXC\n",
      "abxc\n"
     ]
    }
   ],
   "source": [
    "#13\n",
    "string = input(\"Enter a string: \")\n",
    "print(string.upper())\n",
    "print(string.lower())"
   ]
  },
  {
   "cell_type": "code",
   "execution_count": 24,
   "metadata": {},
   "outputs": [
    {
     "name": "stdout",
     "output_type": "stream",
     "text": [
      "black,green,red,white\n"
     ]
    }
   ],
   "source": [
    "#14.\n",
    "string = input(\"Enter a string: \")\n",
    "word = string.split(',')\n",
    "word = [i.strip() for i in word]\n",
    "words = sorted(set(word))\n",
    "\n",
    "print(\",\".join(words))"
   ]
  },
  {
   "cell_type": "code",
   "execution_count": null,
   "metadata": {},
   "outputs": [
    {
     "name": "stdout",
     "output_type": "stream",
     "text": [
      "<a>b</a>\n"
     ]
    }
   ],
   "source": [
    "#15\n",
    "def add_tags(tag, word):\n",
    "    return f\"<{tag}>{word}</{tag}>\"\n",
    "\n",
    "tag = input(\"Enter a tag: \")\n",
    "word = input(\"Enter a word: \")\n",
    "\n",
    "print(add_tags(tag, word))"
   ]
  },
  {
   "cell_type": "code",
   "execution_count": 27,
   "metadata": {},
   "outputs": [
    {
     "name": "stdout",
     "output_type": "stream",
     "text": [
      "{{abc}}\n"
     ]
    }
   ],
   "source": [
    "#16\n",
    "def insert_string_middle(string, word):\n",
    "    middle_index = len(string) // 2 \n",
    "    return string[:middle_index] + word + string[middle_index:]\n",
    "\n",
    "string = input(\"Enter a string: \")\n",
    "word = input(\"Enter a word: \")\n",
    "print(insert_string_middle(string, word))"
   ]
  },
  {
   "cell_type": "code",
   "execution_count": null,
   "metadata": {},
   "outputs": [
    {
     "name": "stdout",
     "output_type": "stream",
     "text": [
      "bcbcbcbc\n"
     ]
    }
   ],
   "source": [
    "#17\n",
    "string = input(\"Enter a string: \")\n",
    "newstring = \"\"\n",
    "if len(string) < 2:\n",
    "    print(\"None\")\n",
    "else:\n",
    "    for i in range(4):\n",
    "        newstring += string[-2:] \n",
    "print(newstring)\n",
    "       "
   ]
  },
  {
   "cell_type": "code",
   "execution_count": 31,
   "metadata": {},
   "outputs": [
    {
     "name": "stdout",
     "output_type": "stream",
     "text": [
      "abc\n"
     ]
    }
   ],
   "source": [
    "#18\n",
    "string = input(\"Enter a string: \")\n",
    "if len(string) < 4:\n",
    "    print(string)\n",
    "else:\n",
    "    print(string[:3])"
   ]
  },
  {
   "cell_type": "code",
   "execution_count": 32,
   "metadata": {},
   "outputs": [
    {
     "name": "stdout",
     "output_type": "stream",
     "text": [
      "https://www.w3resource.com\n"
     ]
    }
   ],
   "source": [
    "#19\n",
    "string = input(\"Enter a string: \")\n",
    "char = input(\"Enter a character: \")\n",
    "index = string.rfind(char)\n",
    "if index == -1:\n",
    "    print(string)\n",
    "else:\n",
    "    print(string[:index])\n",
    "    "
   ]
  },
  {
   "cell_type": "code",
   "execution_count": 33,
   "metadata": {},
   "outputs": [
    {
     "name": "stdout",
     "output_type": "stream",
     "text": [
      "dcba\n"
     ]
    }
   ],
   "source": [
    "#20\n",
    "string = input(\"Enter a string: \")  \n",
    "if len(string) %4==0:\n",
    "    print(string[::-1])\n",
    "else:\n",
    "    print(string)"
   ]
  },
  {
   "cell_type": "code",
   "execution_count": 34,
   "metadata": {},
   "outputs": [
    {
     "name": "stdout",
     "output_type": "stream",
     "text": [
      "ABCDBBBC\n"
     ]
    }
   ],
   "source": [
    "#21\n",
    "string = input(\"Enter a string: \")\n",
    "count = 0\n",
    "for i in range (4):\n",
    "    if string[i].isupper():\n",
    "        count += 1\n",
    "if count >=2:\n",
    "    print(string.upper())\n",
    "else:\n",
    "    print(string.lower())\n",
    "        "
   ]
  },
  {
   "cell_type": "code",
   "execution_count": null,
   "metadata": {},
   "outputs": [
    {
     "name": "stdout",
     "output_type": "stream",
     "text": [
      "ahhkn\n"
     ]
    }
   ],
   "source": [
    "#22\n",
    "string = input(\"Enter a string: \")\n",
    "newstring = \"\".join(sorted(string))\n",
    "print(newstring)"
   ]
  },
  {
   "cell_type": "code",
   "execution_count": 40,
   "metadata": {},
   "outputs": [
    {
     "name": "stdout",
     "output_type": "stream",
     "text": [
      "Hello\n",
      "World\n",
      "\n",
      "Hello World \n"
     ]
    }
   ],
   "source": [
    "#23\n",
    "string = (\"Hello\\nWorld\\n\")\n",
    "print(string)\n",
    "newstring = string.replace(\"\\n\", \" \")\n",
    "print (newstring)"
   ]
  },
  {
   "cell_type": "code",
   "execution_count": 41,
   "metadata": {},
   "outputs": [
    {
     "name": "stdout",
     "output_type": "stream",
     "text": [
      "True\n"
     ]
    }
   ],
   "source": [
    "#24\n",
    "string = input(\"Enter a string: \")\n",
    "specific_string = input(\"Enter a specific string: \")\n",
    "\n",
    "if string.startswith(specific_string):\n",
    "    print(\"True\")\n",
    "else:\n",
    "    print(\"False\")\n",
    "    \n"
   ]
  },
  {
   "cell_type": "code",
   "execution_count": 42,
   "metadata": {},
   "outputs": [
    {
     "name": "stdout",
     "output_type": "stream",
     "text": [
      "Original string:  Hello World\n",
      "Shifted string:  LippsrAsvph\n"
     ]
    }
   ],
   "source": [
    "#25\n",
    "def ceasar(string,shift):\n",
    "    result = \"\"\n",
    "    for i in range(len(string)):\n",
    "        char = string[i]\n",
    "        if char.isupper():\n",
    "            result += chr((ord(char) + shift - 65) % 26 + 65)\n",
    "        else:\n",
    "            result += chr((ord(char) + shift - 97) % 26 + 97)\n",
    "    return result\n",
    "\n",
    "string = input(\"Enter a string: \")\n",
    "shift = int(input(\"Enter shift value: \"))\n",
    "print(\"Original string: \", string)\n",
    "print(\"Shifted string: \", ceasar(string, shift))"
   ]
  },
  {
   "cell_type": "code",
   "execution_count": 45,
   "metadata": {},
   "outputs": [
    {
     "name": "stdout",
     "output_type": "stream",
     "text": [
      "                      hello                       \n"
     ]
    }
   ],
   "source": [
    "#26\n",
    "string = input(\"Enter a string: \")\n",
    "width = 50\n",
    "print(string.center(width, ' '))\n"
   ]
  },
  {
   "cell_type": "code",
   "execution_count": 46,
   "metadata": {},
   "outputs": [
    {
     "name": "stdout",
     "output_type": "stream",
     "text": [
      "Original string:      abccc\n",
      "String after removing existing identation:  abccc\n"
     ]
    }
   ],
   "source": [
    "#27\n",
    "def remove_existing_identation (string):\n",
    "    lines = string.split('\\n')\n",
    "    stripped_lines = [lines.lstrip() for lines in lines]\n",
    "    return '\\n'.join(stripped_lines)\n",
    "string = input(\"Enter a string: \")\n",
    "print(\"Original string: \", string)\n",
    "print(\"String after removing existing identation: \", remove_existing_identation(string))\n"
   ]
  },
  {
   "cell_type": "code",
   "execution_count": 47,
   "metadata": {},
   "outputs": [
    {
     "name": "stdout",
     "output_type": "stream",
     "text": [
      "\\\\abc\n"
     ]
    }
   ],
   "source": [
    "#28\n",
    "def add_prefix_to_lines(text, prefix):\n",
    "    lines = text.split('\\n')  \n",
    "    prefixed_lines = [prefix + line for line in lines]  \n",
    "    return '\\n'.join(prefixed_lines)  \n",
    "string = input(\"Enter a string: \")\n",
    "prefix = input(\"Enter a prefix: \")\n",
    "print(add_prefix_to_lines(string, prefix))"
   ]
  },
  {
   "cell_type": "code",
   "execution_count": null,
   "metadata": {},
   "outputs": [
    {
     "name": "stdout",
     "output_type": "stream",
     "text": [
      "     abcd\n"
     ]
    }
   ],
   "source": [
    "#29\n",
    "def set_first_line_indentation(text, indentation):\n",
    "    lines = text.split('\\n')\n",
    "    if lines:\n",
    "        lines[0] = ' ' * indentation + lines[0]\n",
    "    return '\\n'.join(lines)\n",
    "\n",
    "string = input(\"Enter a string: \")\n",
    "indentation = int(input(\"Enter indentation: \"))\n",
    "print(set_first_line_indentation(string, indentation))"
   ]
  },
  {
   "cell_type": "code",
   "execution_count": null,
   "metadata": {},
   "outputs": [
    {
     "name": "stdout",
     "output_type": "stream",
     "text": [
      "123.12\n"
     ]
    }
   ],
   "source": [
    "#30\n",
    "num = 123.123\n",
    "print(f\"{num:.2f}\") "
   ]
  },
  {
   "cell_type": "code",
   "execution_count": 50,
   "metadata": {},
   "outputs": [
    {
     "name": "stdout",
     "output_type": "stream",
     "text": [
      "+123.12\n"
     ]
    }
   ],
   "source": [
    "#31\n",
    "num = 123.123\n",
    "print(f\"{num:+.2f}\") "
   ]
  },
  {
   "cell_type": "code",
   "execution_count": 51,
   "metadata": {},
   "outputs": [
    {
     "name": "stdout",
     "output_type": "stream",
     "text": [
      "123 -123\n"
     ]
    }
   ],
   "source": [
    "#32\n",
    "num = 123.123\n",
    "num2 = -123.123\n",
    "print(f\"{num:.0f} {num2:.0f}\")"
   ]
  },
  {
   "cell_type": "code",
   "execution_count": null,
   "metadata": {},
   "outputs": [
    {
     "name": "stdout",
     "output_type": "stream",
     "text": [
      "00295\n"
     ]
    }
   ],
   "source": [
    "#33\n",
    "num = 295\n",
    "print(f\"{num:05d}\")"
   ]
  },
  {
   "cell_type": "code",
   "execution_count": null,
   "metadata": {},
   "outputs": [
    {
     "name": "stdout",
     "output_type": "stream",
     "text": [
      "295**\n"
     ]
    }
   ],
   "source": [
    "#34\n",
    "num = 295\n",
    "print(f\"{num:*<5}\")"
   ]
  },
  {
   "cell_type": "code",
   "execution_count": 55,
   "metadata": {},
   "outputs": [
    {
     "name": "stdout",
     "output_type": "stream",
     "text": [
      "295,234\n"
     ]
    }
   ],
   "source": [
    "#35\n",
    "num = 295234\n",
    "print(f\"{num:,}\")"
   ]
  },
  {
   "cell_type": "code",
   "execution_count": 56,
   "metadata": {},
   "outputs": [
    {
     "name": "stdout",
     "output_type": "stream",
     "text": [
      "2900.00%\n"
     ]
    }
   ],
   "source": [
    "#36\n",
    "num = 29\n",
    "print(f\"{num:.2%}\")"
   ]
  },
  {
   "cell_type": "code",
   "execution_count": 57,
   "metadata": {},
   "outputs": [
    {
     "name": "stdout",
     "output_type": "stream",
     "text": [
      "29        \n",
      "        29\n",
      "    29    \n"
     ]
    }
   ],
   "source": [
    "#37\n",
    "num = 29\n",
    "print(f\"{num:<10}\")  # Căn trái\n",
    "print(f\"{num:>10}\")  # Căn phải\n",
    "print(f\"{num:^10}\")  # Căn giữa\n"
   ]
  },
  {
   "cell_type": "code",
   "execution_count": 58,
   "metadata": {},
   "outputs": [
    {
     "name": "stdout",
     "output_type": "stream",
     "text": [
      "The substring 'World' appears 2 times in the string.\n"
     ]
    }
   ],
   "source": [
    "#38\n",
    "string = \"Hello, World!, hello , World\"\n",
    "substring = \"World\"\n",
    "count = string.count(substring)\n",
    "print(f\"The substring '{substring}' appears {count} times in the string.\")"
   ]
  },
  {
   "cell_type": "code",
   "execution_count": 59,
   "metadata": {},
   "outputs": [
    {
     "name": "stdout",
     "output_type": "stream",
     "text": [
      "!dlroW ,olleH\n"
     ]
    }
   ],
   "source": [
    "#39\n",
    "string = \"Hello, World!\"\n",
    "reversed_string = string[::-1]\n",
    "print(reversed_string)"
   ]
  },
  {
   "cell_type": "code",
   "execution_count": 61,
   "metadata": {},
   "outputs": [
    {
     "name": "stdout",
     "output_type": "stream",
     "text": [
      "World!Hello,\n"
     ]
    }
   ],
   "source": [
    "#40\n",
    "string = \"Hello, World!\"\n",
    "newstring = ''.join(string.split()[::-1])\n",
    "print(newstring)"
   ]
  },
  {
   "cell_type": "code",
   "execution_count": 62,
   "metadata": {},
   "outputs": [
    {
     "name": "stdout",
     "output_type": "stream",
     "text": [
      "Hello, World!\n"
     ]
    }
   ],
   "source": [
    "#41\n",
    "string = \"  Hello, World!   \"\n",
    "print(string.strip())"
   ]
  },
  {
   "cell_type": "code",
   "execution_count": 63,
   "metadata": {},
   "outputs": [
    {
     "name": "stdout",
     "output_type": "stream",
     "text": [
      "'a' : 1\n",
      "'b' : 1\n",
      "'c' : 1\n",
      "'d' : 1\n",
      "'e' : 3\n",
      "'f' : 1\n",
      "'g' : 1\n",
      "'h' : 2\n",
      "'i' : 1\n",
      "'j' : 1\n",
      "'k' : 1\n",
      "'l' : 1\n",
      "'m' : 1\n",
      "'n' : 1\n",
      "'o' : 4\n",
      "'p' : 1\n",
      "'q' : 1\n",
      "'r' : 2\n",
      "'s' : 1\n",
      "'t' : 2\n",
      "'u' : 2\n",
      "'v' : 1\n",
      "'w' : 1\n",
      "'x' : 1\n",
      "'y' : 1\n",
      "'z' : 1\n"
     ]
    }
   ],
   "source": [
    "#42\n",
    "string = 'thequickbrownfoxjumpsoverthelazydog'\n",
    "alphabet = 'abcdefghijklmnopqrstuvwxyz'\n",
    "for letter in alphabet:\n",
    "    if letter not in string:\n",
    "        continue\n",
    "    else:\n",
    "        print(f\"'{letter}' : {string.count(letter)}\")"
   ]
  },
  {
   "cell_type": "code",
   "execution_count": 65,
   "metadata": {},
   "outputs": [
    {
     "name": "stdout",
     "output_type": "stream",
     "text": [
      "area: 1256.66cm²\n",
      "volume : 1254.725cm³\n"
     ]
    }
   ],
   "source": [
    "#43\n",
    "area = 1256.66\n",
    "volume = 1254.725\n",
    "print(f\"area: {area}cm²\")\n",
    "print(f\"volume : {volume}cm³\")\n"
   ]
  },
  {
   "cell_type": "code",
   "execution_count": 67,
   "metadata": {},
   "outputs": [
    {
     "name": "stdout",
     "output_type": "stream",
     "text": [
      " w - 0\n",
      " 3 - 1\n",
      " r - 2\n",
      " e - 3\n",
      " s - 4\n",
      " o - 5\n",
      " u - 6\n",
      " r - 7\n",
      " c - 8\n",
      " e - 9\n"
     ]
    }
   ],
   "source": [
    "#44\n",
    "text = \"w3resource\"\n",
    "for index, char in enumerate(text):\n",
    "    print(f\" {char} - {index}\")"
   ]
  },
  {
   "cell_type": "code",
   "execution_count": 68,
   "metadata": {},
   "outputs": [
    {
     "name": "stdout",
     "output_type": "stream",
     "text": [
      "The string is a pangram.\n"
     ]
    }
   ],
   "source": [
    "#45\n",
    "string = \"thequickbrownfoxjumpsoverthelazydog\"\n",
    "alphabet = 'abcdefghijklmnopqrstuvwxyz'\n",
    "if all(letter in string for letter in alphabet):\n",
    "    print(\"The string is a pangram.\")\n",
    "else:\n",
    "    print(\"The string is not a pangram.\")\n"
   ]
  },
  {
   "cell_type": "code",
   "execution_count": null,
   "metadata": {},
   "outputs": [
    {
     "name": "stdout",
     "output_type": "stream",
     "text": [
      "['The', 'quick', 'brown', 'fox', 'jumps', 'over', 'the', 'lazy', 'dog']\n"
     ]
    }
   ],
   "source": [
    "#46\n",
    "string = \" The quick brown fox jumps over the lazy dog\"\n",
    "string = string.split()\n",
    "print(string)"
   ]
  },
  {
   "cell_type": "code",
   "execution_count": 73,
   "metadata": {},
   "outputs": [
    {
     "name": "stdout",
     "output_type": "stream",
     "text": [
      "abdHASFU\n"
     ]
    }
   ],
   "source": [
    "#47\n",
    "string = input(\"Enter a string: \")\n",
    "n = int(input(\"Enter a number: \"))\n",
    "print(string[:n].lower() + string[n:])"
   ]
  },
  {
   "cell_type": "code",
   "execution_count": 76,
   "metadata": {},
   "outputs": [
    {
     "name": "stdout",
     "output_type": "stream",
     "text": [
      "(3123,2454. 534)\n"
     ]
    }
   ],
   "source": [
    "#48\n",
    "string = 3123.2454,534\n",
    "swapped_string = str(string).replace(',', 'tmp').replace('.', ',').replace('tmp', '.')\n",
    "print(swapped_string)"
   ]
  },
  {
   "cell_type": "code",
   "execution_count": 78,
   "metadata": {},
   "outputs": [
    {
     "name": "stdout",
     "output_type": "stream",
     "text": [
      "{'a': 1, 'e': 2, 'o': 2}\n"
     ]
    }
   ],
   "source": [
    "#49\n",
    "string = input(\"Enter a string: \")\n",
    "vowels = \"aeiouAEIOU\"\n",
    "count = {}\n",
    "for i in vowels:\n",
    "    vowels_count = string.count(i)\n",
    "    if vowels_count >0:\n",
    "        count[i] = vowels_count\n",
    "print(count)"
   ]
  },
  {
   "cell_type": "code",
   "execution_count": 79,
   "metadata": {},
   "outputs": [
    {
     "name": "stdout",
     "output_type": "stream",
     "text": [
      "['apple,banana,orange', 'grape']\n"
     ]
    }
   ],
   "source": [
    "text = \"apple,banana,orange,grape\"\n",
    "delimiter = \",\"\n",
    "split_text = text.rsplit(delimiter, 1)\n",
    "print(split_text)"
   ]
  }
 ],
 "metadata": {
  "kernelspec": {
   "display_name": "Python 3",
   "language": "python",
   "name": "python3"
  },
  "language_info": {
   "codemirror_mode": {
    "name": "ipython",
    "version": 3
   },
   "file_extension": ".py",
   "mimetype": "text/x-python",
   "name": "python",
   "nbconvert_exporter": "python",
   "pygments_lexer": "ipython3",
   "version": "3.12.5"
  }
 },
 "nbformat": 4,
 "nbformat_minor": 2
}
