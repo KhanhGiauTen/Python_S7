{
 "cells": [
  {
   "cell_type": "markdown",
   "metadata": {},
   "source": [
    "***Homework_3***\n",
    "----------------\n",
    "\n",
    "1. Write a program that prompts the user to enter base and height of the triangle and calculate an area of this triangle (area = 0.5 x b x h).\n",
    "2. Write a script that prompts the user to enter side a, side b, and side c of the triangle. Calculate the perimeter of the triangle (perimeter = a + b + c).\n",
    "3. Get length and width of a rectangle using prompt. Calculate its area (area = length x width) and perimeter (perimeter = 2 x (length + width))\n",
    "4. Get radius of a circle using prompt. Calculate the area (area = pi x r x r) and circumference (c = 2 x pi x r) where pi = 3.14.\n",
    "5. Calculate the slope, x-intercept and y-intercept of y = 2x -2\n",
    "6. Slope is (m = y2-y1/x2-x1). Find the slope and Euclidean distance between point (2, 2) and point (6,10)\n",
    "7. Compare the slopes in tasks 8 and 9.\n",
    "8. Calculate the value of y (y = x^2 + 6x + 9). Try to use different x values and figure out at what x value y is going to be 0.\n",
    "9. Find the length of 'python' and 'dragon' and make a falsy comparison statement.\n",
    "10. Use and operator to check if 'on' is found in both 'python' and 'dragon'\n",
    "11. I hope this course is not full of jargon. Use in operator to check if jargon is in the sentence.\n",
    "12. There is no 'on' in both dragon and python\n",
    "13. Find the length of the text python and convert the value to float and convert it to string\n",
    "14. Even numbers are divisible by 2 and the remainder is zero. How do you check if a number is even or not using python?\n",
    "15. Writs a script that prompts the user to enter hours and rate per hour. Calculate pay of the person?\n",
    "16. Write a script that prompts the user to enter number of years. Calculate the number of seconds a person can live. Assume a person can live hundred years"
   ]
  },
  {
   "cell_type": "code",
   "execution_count": 2,
   "metadata": {},
   "outputs": [
    {
     "name": "stdout",
     "output_type": "stream",
     "text": [
      "6.0\n"
     ]
    }
   ],
   "source": [
    "#1\n",
    "def calculate_area(base,height):\n",
    "    return float(0.5*base*height)\n",
    "\n",
    "base = float(input(\"base: \"))\n",
    "height = float(input(\"height: \"))\n",
    "\n",
    "print(calculate_area(base,height))"
   ]
  },
  {
   "cell_type": "code",
   "execution_count": 4,
   "metadata": {},
   "outputs": [
    {
     "name": "stdout",
     "output_type": "stream",
     "text": [
      "9.4\n"
     ]
    }
   ],
   "source": [
    "#2\n",
    "def perimeter(a,b,c):\n",
    "    return a+b+c\n",
    "\n",
    "a = float(input())\n",
    "b = float(input())\n",
    "c = float(input())\n",
    "\n",
    "print(perimeter(a,b,c))\n"
   ]
  },
  {
   "cell_type": "code",
   "execution_count": 5,
   "metadata": {},
   "outputs": [
    {
     "name": "stdout",
     "output_type": "stream",
     "text": [
      "[9.2, 12.6]\n"
     ]
    }
   ],
   "source": [
    "#3\n",
    "def calculate(a,b):\n",
    "    area = float(a*b)\n",
    "    perimeter = float(2*(a+b))\n",
    "    result = [area,perimeter]\n",
    "    return result\n",
    "\n",
    "a = float(input())\n",
    "b = float(input())\n",
    "\n",
    "print(calculate(a,b))"
   ]
  },
  {
   "cell_type": "code",
   "execution_count": 6,
   "metadata": {},
   "outputs": [
    {
     "name": "stdout",
     "output_type": "stream",
     "text": [
      "(36.316811075498, 21.362830044410593)\n"
     ]
    }
   ],
   "source": [
    "#4\n",
    "import math\n",
    "\n",
    "def calculate(r):\n",
    "    area = math.pi * r**2\n",
    "    c = 2 *math.pi * r\n",
    "    return area,c\n",
    "\n",
    "radius = float(input())\n",
    "print(calculate(radius))\n",
    "    "
   ]
  },
  {
   "cell_type": "code",
   "execution_count": 12,
   "metadata": {},
   "outputs": [
    {
     "name": "stdout",
     "output_type": "stream",
     "text": [
      "y = 2x -2\n",
      "x = 2y -2\n",
      "Slope is 1/2\n",
      "intercept_x: 1.0\n",
      "intercept_y: -2\n"
     ]
    }
   ],
   "source": [
    "#5\n",
    "string =\"y = 2x -2\"\n",
    "print(string)\n",
    "newfomular = string.replace(\"y\",\"tmp\").replace(\"x\",\"y\").replace(\"tmp\",\"x\")\n",
    "print(newfomular)\n",
    "print(\"Slope is 1/2\")\n",
    "\n",
    "def cal_intercept_x():\n",
    "      return 2/2\n",
    "def cal_intercept_y():\n",
    "      return 2*0-2\n",
    "\n",
    "print(f\"intercept_x: {cal_intercept_x()}\")\n",
    "print(f\"intercept_y: {cal_intercept_y()}\")\n",
    "\n"
   ]
  },
  {
   "cell_type": "code",
   "execution_count": 13,
   "metadata": {},
   "outputs": [
    {
     "name": "stdout",
     "output_type": "stream",
     "text": [
      "2.0\n"
     ]
    }
   ],
   "source": [
    "#6\n",
    "def cal_slope():\n",
    "    return (10-2)/(6-2)\n",
    "\n",
    "print(cal_slope())\n",
    "    "
   ]
  },
  {
   "cell_type": "code",
   "execution_count": null,
   "metadata": {},
   "outputs": [],
   "source": [
    "#8\n",
    "x = int(input())\n",
    "y = x**2 +6*x +9\n",
    "print(y)\n"
   ]
  },
  {
   "cell_type": "code",
   "execution_count": 14,
   "metadata": {},
   "outputs": [
    {
     "name": "stdout",
     "output_type": "stream",
     "text": [
      "Same length\n"
     ]
    }
   ],
   "source": [
    "#9\n",
    "string1 = \"python\"\n",
    "string2 = \"dragon\"\n",
    "print(\"Python is longer\") if len(string1)>len(string2) else print(\"dragon is longer\") if len(string1)<len(string2) else print(\"Same length\")"
   ]
  },
  {
   "cell_type": "code",
   "execution_count": 15,
   "metadata": {},
   "outputs": [
    {
     "name": "stdout",
     "output_type": "stream",
     "text": [
      "True\n"
     ]
    }
   ],
   "source": [
    "#10\n",
    "string1 = \"python\"\n",
    "string2 = \"dragon\"\n",
    "if string1.__contains__(\"on\") and string2.__contains__('on'):\n",
    "    print(\"True\")\n",
    "else:\n",
    "    print(\"False\")"
   ]
  },
  {
   "cell_type": "code",
   "execution_count": 17,
   "metadata": {},
   "outputs": [
    {
     "name": "stdout",
     "output_type": "stream",
     "text": [
      "True\n"
     ]
    }
   ],
   "source": [
    "#11\n",
    "string = \"I hope this course is not full of jargon\"\n",
    "print(\"True\") if string.__contains__(\"jargon\") else print(\"False\")"
   ]
  },
  {
   "cell_type": "code",
   "execution_count": 19,
   "metadata": {},
   "outputs": [
    {
     "name": "stdout",
     "output_type": "stream",
     "text": [
      "40\n",
      "40.0\n",
      "I hope this course is not full of jargon\n"
     ]
    }
   ],
   "source": [
    "#13\n",
    "print(len(string))\n",
    "print (f'{float(len(string))}')\n",
    "print(string)"
   ]
  },
  {
   "cell_type": "code",
   "execution_count": 20,
   "metadata": {},
   "outputs": [
    {
     "name": "stdout",
     "output_type": "stream",
     "text": [
      "Number is even:\n",
      "True\n"
     ]
    }
   ],
   "source": [
    "#14\n",
    "num = float(input())\n",
    "print(\"Number is even:\")\n",
    "print(\"True\") if num%2 ==0 else print(\"False\")"
   ]
  },
  {
   "cell_type": "code",
   "execution_count": 21,
   "metadata": {},
   "outputs": [
    {
     "name": "stdout",
     "output_type": "stream",
     "text": [
      "35.550000000000004\n"
     ]
    }
   ],
   "source": [
    "#15\n",
    "hours = float(input())\n",
    "rate = float(input())\n",
    "\n",
    "print(hours*rate)\n"
   ]
  },
  {
   "cell_type": "code",
   "execution_count": 22,
   "metadata": {},
   "outputs": [
    {
     "name": "stdout",
     "output_type": "stream",
     "text": [
      "473040000.0\n"
     ]
    }
   ],
   "source": [
    "#16\n",
    "years = float(input(\"enter years: \"))\n",
    "if years> 100:\n",
    "    print(\"you lived too long\")\n",
    "else:\n",
    "    print(years*365*24*60*60)"
   ]
  }
 ],
 "metadata": {
  "kernelspec": {
   "display_name": "Python 3",
   "language": "python",
   "name": "python3"
  },
  "language_info": {
   "codemirror_mode": {
    "name": "ipython",
    "version": 3
   },
   "file_extension": ".py",
   "mimetype": "text/x-python",
   "name": "python",
   "nbconvert_exporter": "python",
   "pygments_lexer": "ipython3",
   "version": "3.11.8"
  }
 },
 "nbformat": 4,
 "nbformat_minor": 2
}
